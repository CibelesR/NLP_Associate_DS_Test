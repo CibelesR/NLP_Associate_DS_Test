{
 "cells": [
  {
   "cell_type": "markdown",
   "metadata": {},
   "source": [
    "# Input Data for Training a Model"
   ]
  },
  {
   "cell_type": "markdown",
   "metadata": {},
   "source": [
    "### Time to prepare the documents to train the model.\n",
    "#### Every group of document are separate by language and label. I am going to unify the languages to make three different models, one per language. So, the input must be in the same language and with the specific label."
   ]
  },
  {
   "cell_type": "code",
   "execution_count": 1,
   "metadata": {},
   "outputs": [],
   "source": [
    "# Imports\n",
    "import pandas as pd\n",
    "import numpy as np\n",
    "import re\n",
    "import glob, os\n",
    "\n",
    "\n",
    "import spacy\n",
    "from spacy.lang.en.stop_words import STOP_WORDS\n",
    "STOP_WORDS_en = STOP_WORDS\n",
    "from spacy.lang.fr.stop_words import STOP_WORDS\n",
    "STOP_WORDS_fr = STOP_WORDS"
   ]
  },
  {
   "cell_type": "markdown",
   "metadata": {},
   "source": [
    "# 0. Preparing Data\n",
    "In this part we are going to read the documents in the folders and join then in the same dataframe with the different labels for the training model. Because we are going to create 3 different models -one for each language- we are going to separate the dataframes because of the language."
   ]
  },
  {
   "cell_type": "code",
   "execution_count": 90,
   "metadata": {},
   "outputs": [],
   "source": [
    "def union_df(path, label):\n",
    "    df_all = pd.DataFrame()\n",
    "    for f in glob.glob(path + '/*.txt'):\n",
    "        doc = [open(f, encoding='utf-8').read()]\n",
    "        df = pd.DataFrame(doc, columns=['text'])\n",
    "        df['label'] = label\n",
    "        #df['file_name'] = re.findall('.+\\/(.+\\.txt)', f)\n",
    "        df = df[['label', 'text']]\n",
    "        df_all = pd.concat([df_all,df], ignore_index = True)\n",
    "    return df_all"
   ]
  },
  {
   "cell_type": "code",
   "execution_count": 91,
   "metadata": {},
   "outputs": [],
   "source": [
    "label1 = '__label__APR'\n",
    "label2 = '__label__Conference_papers'\n",
    "label3 = '__label__PAN11'\n",
    "label4 = '__label__Wikipedia'"
   ]
  },
  {
   "cell_type": "markdown",
   "metadata": {},
   "source": [
    "# 1. English"
   ]
  },
  {
   "cell_type": "code",
   "execution_count": 92,
   "metadata": {},
   "outputs": [],
   "source": [
    "path1 = '/Users/Natalio/Desktop/nlp_associate_ds_test/NLP_Associate_DS_Test/data/documents_challenge/APR/en'\n",
    "\n",
    "path2 = '/Users/Natalio/Desktop/nlp_associate_ds_test/NLP_Associate_DS_Test/data/documents_challenge/Conference_papers/en'\n",
    "\n",
    "path3 = '/Users/Natalio/Desktop/nlp_associate_ds_test/NLP_Associate_DS_Test/data/documents_challenge/PAN11/en'\n",
    "\n",
    "path4 = '/Users/Natalio/Desktop/nlp_associate_ds_test/NLP_Associate_DS_Test/data/documents_challenge/Wikipedia/en'\n"
   ]
  },
  {
   "cell_type": "code",
   "execution_count": 93,
   "metadata": {},
   "outputs": [],
   "source": [
    "df_en1 = union_df(path1,label1)\n"
   ]
  },
  {
   "cell_type": "code",
   "execution_count": 94,
   "metadata": {},
   "outputs": [],
   "source": [
    "df_en2 = union_df(path2,label2)\n"
   ]
  },
  {
   "cell_type": "code",
   "execution_count": 95,
   "metadata": {},
   "outputs": [],
   "source": [
    "df_en3 = union_df(path3,label3)\n"
   ]
  },
  {
   "cell_type": "code",
   "execution_count": 96,
   "metadata": {},
   "outputs": [],
   "source": [
    "df_en4 = union_df(path4,label4)"
   ]
  },
  {
   "cell_type": "code",
   "execution_count": 97,
   "metadata": {},
   "outputs": [
    {
     "data": {
      "text/html": [
       "<div>\n",
       "<style scoped>\n",
       "    .dataframe tbody tr th:only-of-type {\n",
       "        vertical-align: middle;\n",
       "    }\n",
       "\n",
       "    .dataframe tbody tr th {\n",
       "        vertical-align: top;\n",
       "    }\n",
       "\n",
       "    .dataframe thead th {\n",
       "        text-align: right;\n",
       "    }\n",
       "</style>\n",
       "<table border=\"1\" class=\"dataframe\">\n",
       "  <thead>\n",
       "    <tr style=\"text-align: right;\">\n",
       "      <th></th>\n",
       "      <th>label</th>\n",
       "      <th>text</th>\n",
       "    </tr>\n",
       "  </thead>\n",
       "  <tbody>\n",
       "    <tr>\n",
       "      <th>0</th>\n",
       "      <td>__label__APR</td>\n",
       "      <td>i read this book because in my town, everyone ...</td>\n",
       "    </tr>\n",
       "    <tr>\n",
       "      <th>1</th>\n",
       "      <td>__label__APR</td>\n",
       "      <td>recipes appreciated by the family (small and l...</td>\n",
       "    </tr>\n",
       "    <tr>\n",
       "      <th>2</th>\n",
       "      <td>__label__APR</td>\n",
       "      <td>i say no to ease ..... and not to the author w...</td>\n",
       "    </tr>\n",
       "    <tr>\n",
       "      <th>3</th>\n",
       "      <td>__label__APR</td>\n",
       "      <td>milady has found a good vein: anita blake. bas...</td>\n",
       "    </tr>\n",
       "    <tr>\n",
       "      <th>4</th>\n",
       "      <td>__label__APR</td>\n",
       "      <td>460 bc, somewhere in greece: \"gentlemen, i dec...</td>\n",
       "    </tr>\n",
       "    <tr>\n",
       "      <th>...</th>\n",
       "      <td>...</td>\n",
       "      <td>...</td>\n",
       "    </tr>\n",
       "    <tr>\n",
       "      <th>9644</th>\n",
       "      <td>__label__Wikipedia</td>\n",
       "      <td>Bupyeong-gu, Incheon. | location_country =...</td>\n",
       "    </tr>\n",
       "    <tr>\n",
       "      <th>9645</th>\n",
       "      <td>__label__Wikipedia</td>\n",
       "      <td>Freedom Call is a German power metal band form...</td>\n",
       "    </tr>\n",
       "    <tr>\n",
       "      <th>9646</th>\n",
       "      <td>__label__Wikipedia</td>\n",
       "      <td>majesty|consortname = Paola Ruffo di Calabriat...</td>\n",
       "    </tr>\n",
       "    <tr>\n",
       "      <th>9647</th>\n",
       "      <td>__label__Wikipedia</td>\n",
       "      <td>Sertã (pron. ) is a municipality in Portugal ...</td>\n",
       "    </tr>\n",
       "    <tr>\n",
       "      <th>9648</th>\n",
       "      <td>__label__Wikipedia</td>\n",
       "      <td>For the instrumental theme see Chariots of Fir...</td>\n",
       "    </tr>\n",
       "  </tbody>\n",
       "</table>\n",
       "<p>9649 rows × 2 columns</p>\n",
       "</div>"
      ],
      "text/plain": [
       "                   label                                               text\n",
       "0           __label__APR  i read this book because in my town, everyone ...\n",
       "1           __label__APR  recipes appreciated by the family (small and l...\n",
       "2           __label__APR  i say no to ease ..... and not to the author w...\n",
       "3           __label__APR  milady has found a good vein: anita blake. bas...\n",
       "4           __label__APR  460 bc, somewhere in greece: \"gentlemen, i dec...\n",
       "...                  ...                                                ...\n",
       "9644  __label__Wikipedia      Bupyeong-gu, Incheon. | location_country =...\n",
       "9645  __label__Wikipedia  Freedom Call is a German power metal band form...\n",
       "9646  __label__Wikipedia  majesty|consortname = Paola Ruffo di Calabriat...\n",
       "9647  __label__Wikipedia   Sertã (pron. ) is a municipality in Portugal ...\n",
       "9648  __label__Wikipedia  For the instrumental theme see Chariots of Fir...\n",
       "\n",
       "[9649 rows x 2 columns]"
      ]
     },
     "execution_count": 97,
     "metadata": {},
     "output_type": "execute_result"
    }
   ],
   "source": [
    "df_en = pd.concat([df_en1,df_en2, df_en3, df_en4], ignore_index = True)\n",
    "df_en"
   ]
  },
  {
   "cell_type": "code",
   "execution_count": 98,
   "metadata": {},
   "outputs": [
    {
     "data": {
      "text/plain": [
       "9649"
      ]
     },
     "execution_count": 98,
     "metadata": {},
     "output_type": "execute_result"
    }
   ],
   "source": [
    "len(df_en)"
   ]
  },
  {
   "cell_type": "code",
   "execution_count": 101,
   "metadata": {},
   "outputs": [],
   "source": [
    "df_en.to_csv('/Users/Natalio/Desktop/nlp_associate_ds_test/NLP_Associate_DS_Test/data/training_data/english.txt', sep=' ', header= False, index=False)"
   ]
  },
  {
   "cell_type": "code",
   "execution_count": 105,
   "metadata": {},
   "outputs": [
    {
     "data": {
      "text/html": [
       "<div>\n",
       "<style scoped>\n",
       "    .dataframe tbody tr th:only-of-type {\n",
       "        vertical-align: middle;\n",
       "    }\n",
       "\n",
       "    .dataframe tbody tr th {\n",
       "        vertical-align: top;\n",
       "    }\n",
       "\n",
       "    .dataframe thead th {\n",
       "        text-align: right;\n",
       "    }\n",
       "</style>\n",
       "<table border=\"1\" class=\"dataframe\">\n",
       "  <thead>\n",
       "    <tr style=\"text-align: right;\">\n",
       "      <th></th>\n",
       "      <th>0</th>\n",
       "      <th>1</th>\n",
       "    </tr>\n",
       "  </thead>\n",
       "  <tbody>\n",
       "    <tr>\n",
       "      <th>0</th>\n",
       "      <td>__label__APR</td>\n",
       "      <td>i read this book because in my town, everyone ...</td>\n",
       "    </tr>\n",
       "    <tr>\n",
       "      <th>1</th>\n",
       "      <td>__label__APR</td>\n",
       "      <td>recipes appreciated by the family (small and l...</td>\n",
       "    </tr>\n",
       "    <tr>\n",
       "      <th>2</th>\n",
       "      <td>__label__APR</td>\n",
       "      <td>i say no to ease ..... and not to the author w...</td>\n",
       "    </tr>\n",
       "    <tr>\n",
       "      <th>3</th>\n",
       "      <td>__label__APR</td>\n",
       "      <td>milady has found a good vein: anita blake. bas...</td>\n",
       "    </tr>\n",
       "    <tr>\n",
       "      <th>4</th>\n",
       "      <td>__label__APR</td>\n",
       "      <td>460 bc, somewhere in greece: \"gentlemen, i dec...</td>\n",
       "    </tr>\n",
       "    <tr>\n",
       "      <th>...</th>\n",
       "      <td>...</td>\n",
       "      <td>...</td>\n",
       "    </tr>\n",
       "    <tr>\n",
       "      <th>9644</th>\n",
       "      <td>__label__Wikipedia</td>\n",
       "      <td>Bupyeong-gu, Incheon. | location_country =...</td>\n",
       "    </tr>\n",
       "    <tr>\n",
       "      <th>9645</th>\n",
       "      <td>__label__Wikipedia</td>\n",
       "      <td>Freedom Call is a German power metal band form...</td>\n",
       "    </tr>\n",
       "    <tr>\n",
       "      <th>9646</th>\n",
       "      <td>__label__Wikipedia</td>\n",
       "      <td>majesty|consortname = Paola Ruffo di Calabriat...</td>\n",
       "    </tr>\n",
       "    <tr>\n",
       "      <th>9647</th>\n",
       "      <td>__label__Wikipedia</td>\n",
       "      <td>Sertã (pron. ) is a municipality in Portugal ...</td>\n",
       "    </tr>\n",
       "    <tr>\n",
       "      <th>9648</th>\n",
       "      <td>__label__Wikipedia</td>\n",
       "      <td>For the instrumental theme see Chariots of Fir...</td>\n",
       "    </tr>\n",
       "  </tbody>\n",
       "</table>\n",
       "<p>9649 rows × 2 columns</p>\n",
       "</div>"
      ],
      "text/plain": [
       "                       0                                                  1\n",
       "0           __label__APR  i read this book because in my town, everyone ...\n",
       "1           __label__APR  recipes appreciated by the family (small and l...\n",
       "2           __label__APR  i say no to ease ..... and not to the author w...\n",
       "3           __label__APR  milady has found a good vein: anita blake. bas...\n",
       "4           __label__APR  460 bc, somewhere in greece: \"gentlemen, i dec...\n",
       "...                  ...                                                ...\n",
       "9644  __label__Wikipedia      Bupyeong-gu, Incheon. | location_country =...\n",
       "9645  __label__Wikipedia  Freedom Call is a German power metal band form...\n",
       "9646  __label__Wikipedia  majesty|consortname = Paola Ruffo di Calabriat...\n",
       "9647  __label__Wikipedia   Sertã (pron. ) is a municipality in Portugal ...\n",
       "9648  __label__Wikipedia  For the instrumental theme see Chariots of Fir...\n",
       "\n",
       "[9649 rows x 2 columns]"
      ]
     },
     "execution_count": 105,
     "metadata": {},
     "output_type": "execute_result"
    }
   ],
   "source": [
    "df2 = pd.read_csv('/Users/Natalio/Desktop/nlp_associate_ds_test/NLP_Associate_DS_Test/data/training_data/english.txt', sep= ' ', header=None)\n",
    "df2"
   ]
  },
  {
   "cell_type": "markdown",
   "metadata": {},
   "source": [
    "# 2. French"
   ]
  },
  {
   "cell_type": "code",
   "execution_count": 69,
   "metadata": {},
   "outputs": [],
   "source": [
    "path1 = '/Users/Natalio/Desktop/nlp_associate_ds_test/NLP_Associate_DS_Test/data/documents_challenge/APR/fr'\n",
    "\n",
    "path2 = '/Users/Natalio/Desktop/nlp_associate_ds_test/NLP_Associate_DS_Test/data/documents_challenge/Conference_papers/fr'\n",
    "\n",
    "path4 = '/Users/Natalio/Desktop/nlp_associate_ds_test/NLP_Associate_DS_Test/data/documents_challenge/Wikipedia/fr'"
   ]
  },
  {
   "cell_type": "code",
   "execution_count": 70,
   "metadata": {},
   "outputs": [
    {
     "data": {
      "text/html": [
       "<div>\n",
       "<style scoped>\n",
       "    .dataframe tbody tr th:only-of-type {\n",
       "        vertical-align: middle;\n",
       "    }\n",
       "\n",
       "    .dataframe tbody tr th {\n",
       "        vertical-align: top;\n",
       "    }\n",
       "\n",
       "    .dataframe thead th {\n",
       "        text-align: right;\n",
       "    }\n",
       "</style>\n",
       "<table border=\"1\" class=\"dataframe\">\n",
       "  <thead>\n",
       "    <tr style=\"text-align: right;\">\n",
       "      <th></th>\n",
       "      <th>text</th>\n",
       "      <th>label</th>\n",
       "    </tr>\n",
       "  </thead>\n",
       "  <tbody>\n",
       "    <tr>\n",
       "      <th>0</th>\n",
       "      <td>J'avais beaucoup aimé les premiers albums du \"...</td>\n",
       "      <td>APR</td>\n",
       "    </tr>\n",
       "    <tr>\n",
       "      <th>1</th>\n",
       "      <td>Je me joins aux commentaires peu satisfaits......</td>\n",
       "      <td>APR</td>\n",
       "    </tr>\n",
       "    <tr>\n",
       "      <th>2</th>\n",
       "      <td>À sa parution en 1979, ce livre n'a pas rencon...</td>\n",
       "      <td>APR</td>\n",
       "    </tr>\n",
       "    <tr>\n",
       "      <th>3</th>\n",
       "      <td>Je découvre Douglas Kennedy et j'aimerais que ...</td>\n",
       "      <td>APR</td>\n",
       "    </tr>\n",
       "    <tr>\n",
       "      <th>4</th>\n",
       "      <td>J'ai acheté ce livre à la lecture des commenta...</td>\n",
       "      <td>APR</td>\n",
       "    </tr>\n",
       "    <tr>\n",
       "      <th>...</th>\n",
       "      <td>...</td>\n",
       "      <td>...</td>\n",
       "    </tr>\n",
       "    <tr>\n",
       "      <th>7710</th>\n",
       "      <td>, Nuremberg |années actives = depuis 1998 |gen...</td>\n",
       "      <td>Wikipedia</td>\n",
       "    </tr>\n",
       "    <tr>\n",
       "      <th>7711</th>\n",
       "      <td>Une cellule polyploïde (du grec : πολλαπλόν - ...</td>\n",
       "      <td>Wikipedia</td>\n",
       "    </tr>\n",
       "    <tr>\n",
       "      <th>7712</th>\n",
       "      <td>, George W. Bush et Albert II le .]]La reine ...</td>\n",
       "      <td>Wikipedia</td>\n",
       "    </tr>\n",
       "    <tr>\n",
       "      <th>7713</th>\n",
       "      <td>Sertã est une petite ville portugaise de 5 50...</td>\n",
       "      <td>Wikipedia</td>\n",
       "    </tr>\n",
       "    <tr>\n",
       "      <th>7714</th>\n",
       "      <td>| imdb = 82158 Les Chariots de feu (Chariots ...</td>\n",
       "      <td>Wikipedia</td>\n",
       "    </tr>\n",
       "  </tbody>\n",
       "</table>\n",
       "<p>7715 rows × 2 columns</p>\n",
       "</div>"
      ],
      "text/plain": [
       "                                                   text      label\n",
       "0     J'avais beaucoup aimé les premiers albums du \"...        APR\n",
       "1     Je me joins aux commentaires peu satisfaits......        APR\n",
       "2     À sa parution en 1979, ce livre n'a pas rencon...        APR\n",
       "3     Je découvre Douglas Kennedy et j'aimerais que ...        APR\n",
       "4     J'ai acheté ce livre à la lecture des commenta...        APR\n",
       "...                                                 ...        ...\n",
       "7710  , Nuremberg |années actives = depuis 1998 |gen...  Wikipedia\n",
       "7711  Une cellule polyploïde (du grec : πολλαπλόν - ...  Wikipedia\n",
       "7712   , George W. Bush et Albert II le .]]La reine ...  Wikipedia\n",
       "7713   Sertã est une petite ville portugaise de 5 50...  Wikipedia\n",
       "7714   | imdb = 82158 Les Chariots de feu (Chariots ...  Wikipedia\n",
       "\n",
       "[7715 rows x 2 columns]"
      ]
     },
     "execution_count": 70,
     "metadata": {},
     "output_type": "execute_result"
    }
   ],
   "source": [
    "df_fr1 = union_df(path1,label1)\n",
    "df_fr2 = union_df(path2,label2)\n",
    "df_fr4 = union_df(path4,label4)\n",
    "df_fr = pd.concat([df_fr1, df_fr2, df_fr4], ignore_index = True)\n",
    "df_fr"
   ]
  },
  {
   "cell_type": "code",
   "execution_count": 71,
   "metadata": {},
   "outputs": [
    {
     "data": {
      "text/plain": [
       "7715"
      ]
     },
     "execution_count": 71,
     "metadata": {},
     "output_type": "execute_result"
    }
   ],
   "source": [
    "len(df_fr)"
   ]
  },
  {
   "cell_type": "code",
   "execution_count": 72,
   "metadata": {},
   "outputs": [],
   "source": [
    "df_fr.to_csv('/Users/Natalio/Desktop/nlp_associate_ds_test/NLP_Associate_DS_Test/data/training_data/french.csv', header= False, index=False)"
   ]
  },
  {
   "cell_type": "markdown",
   "metadata": {},
   "source": [
    "# Spanish"
   ]
  },
  {
   "cell_type": "code",
   "execution_count": 76,
   "metadata": {},
   "outputs": [],
   "source": [
    "path3 = '/Users/Natalio/Desktop/nlp_associate_ds_test/NLP_Associate_DS_Test/data/documents_challenge/PAN11/es'\n",
    "\n",
    "path4 = '/Users/Natalio/Desktop/nlp_associate_ds_test/NLP_Associate_DS_Test/data/documents_challenge/Wikipedia/es'"
   ]
  },
  {
   "cell_type": "code",
   "execution_count": 77,
   "metadata": {},
   "outputs": [
    {
     "data": {
      "text/html": [
       "<div>\n",
       "<style scoped>\n",
       "    .dataframe tbody tr th:only-of-type {\n",
       "        vertical-align: middle;\n",
       "    }\n",
       "\n",
       "    .dataframe tbody tr th {\n",
       "        vertical-align: top;\n",
       "    }\n",
       "\n",
       "    .dataframe thead th {\n",
       "        text-align: right;\n",
       "    }\n",
       "</style>\n",
       "<table border=\"1\" class=\"dataframe\">\n",
       "  <thead>\n",
       "    <tr style=\"text-align: right;\">\n",
       "      <th></th>\n",
       "      <th>text</th>\n",
       "      <th>label</th>\n",
       "    </tr>\n",
       "  </thead>\n",
       "  <tbody>\n",
       "    <tr>\n",
       "      <th>0</th>\n",
       "      <td>El primero dia pafamos aquellas Lagunas, i pa...</td>\n",
       "      <td>PAN11</td>\n",
       "    </tr>\n",
       "    <tr>\n",
       "      <th>1</th>\n",
       "      <td>A la puesta del Sol, por vnos llanos, i entre...</td>\n",
       "      <td>PAN11</td>\n",
       "    </tr>\n",
       "    <tr>\n",
       "      <th>2</th>\n",
       "      <td>\\n\\nLa Tierra, por la maior parte, defde donde...</td>\n",
       "      <td>PAN11</td>\n",
       "    </tr>\n",
       "    <tr>\n",
       "      <th>3</th>\n",
       "      <td>\\n\\nCAP. XXXVI. De como hecimos hacer Iglesias...</td>\n",
       "      <td>PAN11</td>\n",
       "    </tr>\n",
       "    <tr>\n",
       "      <th>4</th>\n",
       "      <td>¡Asombra el imaginar lo que hubiera dado este...</td>\n",
       "      <td>PAN11</td>\n",
       "    </tr>\n",
       "    <tr>\n",
       "      <th>...</th>\n",
       "      <td>...</td>\n",
       "      <td>...</td>\n",
       "    </tr>\n",
       "    <tr>\n",
       "      <th>4992</th>\n",
       "      <td>| fecha_de_fallecimiento = 8 de enero de 1981|...</td>\n",
       "      <td>Wikipedia</td>\n",
       "    </tr>\n",
       "    <tr>\n",
       "      <th>4993</th>\n",
       "      <td>Red Hat es la compañía responsable de la creac...</td>\n",
       "      <td>Wikipedia</td>\n",
       "    </tr>\n",
       "    <tr>\n",
       "      <th>4994</th>\n",
       "      <td>Bashkortostán (en ruso: Республика Башкортоста...</td>\n",
       "      <td>Wikipedia</td>\n",
       "    </tr>\n",
       "    <tr>\n",
       "      <th>4995</th>\n",
       "      <td>|zona=Polinesia |hablantes=165.000 (censo 200...</td>\n",
       "      <td>Wikipedia</td>\n",
       "    </tr>\n",
       "    <tr>\n",
       "      <th>4996</th>\n",
       "      <td>[new.PNG|thumb|Monómero de actina en el conte...</td>\n",
       "      <td>Wikipedia</td>\n",
       "    </tr>\n",
       "  </tbody>\n",
       "</table>\n",
       "<p>4997 rows × 2 columns</p>\n",
       "</div>"
      ],
      "text/plain": [
       "                                                   text      label\n",
       "0      El primero dia pafamos aquellas Lagunas, i pa...      PAN11\n",
       "1      A la puesta del Sol, por vnos llanos, i entre...      PAN11\n",
       "2     \\n\\nLa Tierra, por la maior parte, defde donde...      PAN11\n",
       "3     \\n\\nCAP. XXXVI. De como hecimos hacer Iglesias...      PAN11\n",
       "4      ¡Asombra el imaginar lo que hubiera dado este...      PAN11\n",
       "...                                                 ...        ...\n",
       "4992  | fecha_de_fallecimiento = 8 de enero de 1981|...  Wikipedia\n",
       "4993  Red Hat es la compañía responsable de la creac...  Wikipedia\n",
       "4994  Bashkortostán (en ruso: Республика Башкортоста...  Wikipedia\n",
       "4995   |zona=Polinesia |hablantes=165.000 (censo 200...  Wikipedia\n",
       "4996   [new.PNG|thumb|Monómero de actina en el conte...  Wikipedia\n",
       "\n",
       "[4997 rows x 2 columns]"
      ]
     },
     "execution_count": 77,
     "metadata": {},
     "output_type": "execute_result"
    }
   ],
   "source": [
    "df_es3 = union_df(path3,label3)\n",
    "df_es4 = union_df(path4,label4)\n",
    "df_es = pd.concat([df_es3, df_es4], ignore_index = True)\n",
    "df_es"
   ]
  },
  {
   "cell_type": "code",
   "execution_count": 78,
   "metadata": {},
   "outputs": [
    {
     "data": {
      "text/plain": [
       "4997"
      ]
     },
     "execution_count": 78,
     "metadata": {},
     "output_type": "execute_result"
    }
   ],
   "source": [
    "len(df_es)"
   ]
  },
  {
   "cell_type": "code",
   "execution_count": 79,
   "metadata": {},
   "outputs": [],
   "source": [
    "df_es.to_csv('/Users/Natalio/Desktop/nlp_associate_ds_test/NLP_Associate_DS_Test/data/training_data/spanish.csv', header= False, index=False)"
   ]
  },
  {
   "cell_type": "code",
   "execution_count": null,
   "metadata": {},
   "outputs": [],
   "source": []
  },
  {
   "cell_type": "code",
   "execution_count": null,
   "metadata": {},
   "outputs": [],
   "source": []
  },
  {
   "cell_type": "code",
   "execution_count": null,
   "metadata": {},
   "outputs": [],
   "source": []
  },
  {
   "cell_type": "code",
   "execution_count": null,
   "metadata": {},
   "outputs": [],
   "source": []
  },
  {
   "cell_type": "code",
   "execution_count": null,
   "metadata": {},
   "outputs": [],
   "source": []
  },
  {
   "cell_type": "code",
   "execution_count": null,
   "metadata": {},
   "outputs": [],
   "source": []
  },
  {
   "cell_type": "code",
   "execution_count": null,
   "metadata": {},
   "outputs": [],
   "source": []
  },
  {
   "cell_type": "code",
   "execution_count": null,
   "metadata": {},
   "outputs": [],
   "source": []
  },
  {
   "cell_type": "code",
   "execution_count": 242,
   "metadata": {},
   "outputs": [],
   "source": [
    "nlp = spacy.load('en')\n",
    "stopwords = list(STOP_WORDS)"
   ]
  },
  {
   "cell_type": "code",
   "execution_count": 334,
   "metadata": {},
   "outputs": [],
   "source": [
    "def spacy_tokenizer(sentence):\n",
    "\n",
    "    tokens = nlp(sentence)\n",
    "    \n",
    "    filtered_tokens = []\n",
    "    for word in tokens:\n",
    "        lemma = word.lemma_.lower().strip()\n",
    "        \n",
    "        if lemma not in STOP_WORDS and word.lemma_ != \"-PRON-\"and re.search('^[a-zA-Z]+$', lemma):\n",
    "            filtered_tokens.append(lemma)\n",
    "\n",
    "    return filtered_tokens\n"
   ]
  },
  {
   "cell_type": "code",
   "execution_count": 356,
   "metadata": {},
   "outputs": [],
   "source": [
    "def spacy_similarity(doc1, doc2):\n",
    "    sim_doc1 = spacy_tokenizer(doc1)\n",
    "    sim_doc2 = spacy_tokenizer(doc2)\n",
    "    result = nlp(' '.join(sim_doc1)).similarity(nlp(' '.join(sim_doc2)))\n",
    "    return result\n"
   ]
  },
  {
   "cell_type": "code",
   "execution_count": 357,
   "metadata": {},
   "outputs": [
    {
     "name": "stderr",
     "output_type": "stream",
     "text": [
      "/Users/Natalio/miniconda3/envs/ea_env/lib/python3.7/site-packages/ipykernel_launcher.py:4: UserWarning: [W007] The model you're using has no word vectors loaded, so the result of the Doc.similarity method will be based on the tagger, parser and NER, which may not give useful similarity judgements. This may happen if you're using one of the small models, e.g. `en_core_web_sm`, which don't ship with word vectors and only use context-sensitive tensors. You can always add your own word vectors, or use one of the larger models instead if available.\n",
      "  after removing the cwd from sys.path.\n"
     ]
    },
    {
     "data": {
      "text/plain": [
       "0.8956579465399698"
      ]
     },
     "execution_count": 357,
     "metadata": {},
     "output_type": "execute_result"
    }
   ],
   "source": [
    "spacy_similarity(doc1,doc2)"
   ]
  },
  {
   "cell_type": "code",
   "execution_count": 340,
   "metadata": {},
   "outputs": [
    {
     "data": {
      "text/plain": [
       "3600"
      ]
     },
     "execution_count": 340,
     "metadata": {},
     "output_type": "execute_result"
    }
   ],
   "source": [
    "doc = df_all['text'].values\n",
    "len(doc)"
   ]
  },
  {
   "cell_type": "code",
   "execution_count": 360,
   "metadata": {},
   "outputs": [
    {
     "data": {
      "text/plain": [
       "3600"
      ]
     },
     "execution_count": 360,
     "metadata": {},
     "output_type": "execute_result"
    }
   ],
   "source": [
    "rows_length = len(df_all.index)\n",
    "rows_length"
   ]
  },
  {
   "cell_type": "code",
   "execution_count": 367,
   "metadata": {},
   "outputs": [],
   "source": [
    "for i in range(len(df_all.index)):\n",
    "    #doc1 = df_all['text'][i].values\n",
    "    for j in range(len(df_all.index)):\n",
    "        #doc2 = df_all['text'][i+j].values\n",
    "        df_all['sim'+str(i)] = i+j\n",
    "    #df_all['text'].apply(spacy_similarity()\n",
    "    \n",
    "    \n",
    "    "
   ]
  },
  {
   "cell_type": "code",
   "execution_count": 368,
   "metadata": {},
   "outputs": [
    {
     "data": {
      "text/html": [
       "<div>\n",
       "<style scoped>\n",
       "    .dataframe tbody tr th:only-of-type {\n",
       "        vertical-align: middle;\n",
       "    }\n",
       "\n",
       "    .dataframe tbody tr th {\n",
       "        vertical-align: top;\n",
       "    }\n",
       "\n",
       "    .dataframe thead th {\n",
       "        text-align: right;\n",
       "    }\n",
       "</style>\n",
       "<table border=\"1\" class=\"dataframe\">\n",
       "  <thead>\n",
       "    <tr style=\"text-align: right;\">\n",
       "      <th></th>\n",
       "      <th>text</th>\n",
       "      <th>file_name</th>\n",
       "      <th>sim0</th>\n",
       "      <th>sim1</th>\n",
       "      <th>sim2</th>\n",
       "      <th>sim3</th>\n",
       "      <th>sim4</th>\n",
       "      <th>sim5</th>\n",
       "      <th>sim6</th>\n",
       "      <th>sim7</th>\n",
       "      <th>...</th>\n",
       "      <th>sim3590</th>\n",
       "      <th>sim3591</th>\n",
       "      <th>sim3592</th>\n",
       "      <th>sim3593</th>\n",
       "      <th>sim3594</th>\n",
       "      <th>sim3595</th>\n",
       "      <th>sim3596</th>\n",
       "      <th>sim3597</th>\n",
       "      <th>sim3598</th>\n",
       "      <th>sim3599</th>\n",
       "    </tr>\n",
       "  </thead>\n",
       "  <tbody>\n",
       "    <tr>\n",
       "      <th>0</th>\n",
       "      <td>i read this book because in my town, everyone ...</td>\n",
       "      <td>apr-book-0-en.txt</td>\n",
       "      <td>3599</td>\n",
       "      <td>3600</td>\n",
       "      <td>3601</td>\n",
       "      <td>3602</td>\n",
       "      <td>3603</td>\n",
       "      <td>3604</td>\n",
       "      <td>3605</td>\n",
       "      <td>3606</td>\n",
       "      <td>...</td>\n",
       "      <td>7189</td>\n",
       "      <td>7190</td>\n",
       "      <td>7191</td>\n",
       "      <td>7192</td>\n",
       "      <td>7193</td>\n",
       "      <td>7194</td>\n",
       "      <td>7195</td>\n",
       "      <td>7196</td>\n",
       "      <td>7197</td>\n",
       "      <td>7198</td>\n",
       "    </tr>\n",
       "    <tr>\n",
       "      <th>1</th>\n",
       "      <td>recipes appreciated by the family (small and l...</td>\n",
       "      <td>apr-book-1-en.txt</td>\n",
       "      <td>3599</td>\n",
       "      <td>3600</td>\n",
       "      <td>3601</td>\n",
       "      <td>3602</td>\n",
       "      <td>3603</td>\n",
       "      <td>3604</td>\n",
       "      <td>3605</td>\n",
       "      <td>3606</td>\n",
       "      <td>...</td>\n",
       "      <td>7189</td>\n",
       "      <td>7190</td>\n",
       "      <td>7191</td>\n",
       "      <td>7192</td>\n",
       "      <td>7193</td>\n",
       "      <td>7194</td>\n",
       "      <td>7195</td>\n",
       "      <td>7196</td>\n",
       "      <td>7197</td>\n",
       "      <td>7198</td>\n",
       "    </tr>\n",
       "    <tr>\n",
       "      <th>2</th>\n",
       "      <td>i say no to ease ..... and not to the author w...</td>\n",
       "      <td>apr-book-10-en.txt</td>\n",
       "      <td>3599</td>\n",
       "      <td>3600</td>\n",
       "      <td>3601</td>\n",
       "      <td>3602</td>\n",
       "      <td>3603</td>\n",
       "      <td>3604</td>\n",
       "      <td>3605</td>\n",
       "      <td>3606</td>\n",
       "      <td>...</td>\n",
       "      <td>7189</td>\n",
       "      <td>7190</td>\n",
       "      <td>7191</td>\n",
       "      <td>7192</td>\n",
       "      <td>7193</td>\n",
       "      <td>7194</td>\n",
       "      <td>7195</td>\n",
       "      <td>7196</td>\n",
       "      <td>7197</td>\n",
       "      <td>7198</td>\n",
       "    </tr>\n",
       "    <tr>\n",
       "      <th>3</th>\n",
       "      <td>milady has found a good vein: anita blake. bas...</td>\n",
       "      <td>apr-book-100-en.txt</td>\n",
       "      <td>3599</td>\n",
       "      <td>3600</td>\n",
       "      <td>3601</td>\n",
       "      <td>3602</td>\n",
       "      <td>3603</td>\n",
       "      <td>3604</td>\n",
       "      <td>3605</td>\n",
       "      <td>3606</td>\n",
       "      <td>...</td>\n",
       "      <td>7189</td>\n",
       "      <td>7190</td>\n",
       "      <td>7191</td>\n",
       "      <td>7192</td>\n",
       "      <td>7193</td>\n",
       "      <td>7194</td>\n",
       "      <td>7195</td>\n",
       "      <td>7196</td>\n",
       "      <td>7197</td>\n",
       "      <td>7198</td>\n",
       "    </tr>\n",
       "    <tr>\n",
       "      <th>4</th>\n",
       "      <td>460 bc, somewhere in greece: \"gentlemen, i dec...</td>\n",
       "      <td>apr-book-1000-en.txt</td>\n",
       "      <td>3599</td>\n",
       "      <td>3600</td>\n",
       "      <td>3601</td>\n",
       "      <td>3602</td>\n",
       "      <td>3603</td>\n",
       "      <td>3604</td>\n",
       "      <td>3605</td>\n",
       "      <td>3606</td>\n",
       "      <td>...</td>\n",
       "      <td>7189</td>\n",
       "      <td>7190</td>\n",
       "      <td>7191</td>\n",
       "      <td>7192</td>\n",
       "      <td>7193</td>\n",
       "      <td>7194</td>\n",
       "      <td>7195</td>\n",
       "      <td>7196</td>\n",
       "      <td>7197</td>\n",
       "      <td>7198</td>\n",
       "    </tr>\n",
       "    <tr>\n",
       "      <th>...</th>\n",
       "      <td>...</td>\n",
       "      <td>...</td>\n",
       "      <td>...</td>\n",
       "      <td>...</td>\n",
       "      <td>...</td>\n",
       "      <td>...</td>\n",
       "      <td>...</td>\n",
       "      <td>...</td>\n",
       "      <td>...</td>\n",
       "      <td>...</td>\n",
       "      <td>...</td>\n",
       "      <td>...</td>\n",
       "      <td>...</td>\n",
       "      <td>...</td>\n",
       "      <td>...</td>\n",
       "      <td>...</td>\n",
       "      <td>...</td>\n",
       "      <td>...</td>\n",
       "      <td>...</td>\n",
       "      <td>...</td>\n",
       "      <td>...</td>\n",
       "    </tr>\n",
       "    <tr>\n",
       "      <th>3595</th>\n",
       "      <td>i really wonder what is yet to coldplay. i thi...</td>\n",
       "      <td>apr-music-991-en.txt</td>\n",
       "      <td>3599</td>\n",
       "      <td>3600</td>\n",
       "      <td>3601</td>\n",
       "      <td>3602</td>\n",
       "      <td>3603</td>\n",
       "      <td>3604</td>\n",
       "      <td>3605</td>\n",
       "      <td>3606</td>\n",
       "      <td>...</td>\n",
       "      <td>7189</td>\n",
       "      <td>7190</td>\n",
       "      <td>7191</td>\n",
       "      <td>7192</td>\n",
       "      <td>7193</td>\n",
       "      <td>7194</td>\n",
       "      <td>7195</td>\n",
       "      <td>7196</td>\n",
       "      <td>7197</td>\n",
       "      <td>7198</td>\n",
       "    </tr>\n",
       "    <tr>\n",
       "      <th>3596</th>\n",
       "      <td>i'm pretty disappointed that it lacks the song...</td>\n",
       "      <td>apr-music-992-en.txt</td>\n",
       "      <td>3599</td>\n",
       "      <td>3600</td>\n",
       "      <td>3601</td>\n",
       "      <td>3602</td>\n",
       "      <td>3603</td>\n",
       "      <td>3604</td>\n",
       "      <td>3605</td>\n",
       "      <td>3606</td>\n",
       "      <td>...</td>\n",
       "      <td>7189</td>\n",
       "      <td>7190</td>\n",
       "      <td>7191</td>\n",
       "      <td>7192</td>\n",
       "      <td>7193</td>\n",
       "      <td>7194</td>\n",
       "      <td>7195</td>\n",
       "      <td>7196</td>\n",
       "      <td>7197</td>\n",
       "      <td>7198</td>\n",
       "    </tr>\n",
       "    <tr>\n",
       "      <th>3597</th>\n",
       "      <td>i bought the cd and dvd, it is complemented pe...</td>\n",
       "      <td>apr-music-995-en.txt</td>\n",
       "      <td>3599</td>\n",
       "      <td>3600</td>\n",
       "      <td>3601</td>\n",
       "      <td>3602</td>\n",
       "      <td>3603</td>\n",
       "      <td>3604</td>\n",
       "      <td>3605</td>\n",
       "      <td>3606</td>\n",
       "      <td>...</td>\n",
       "      <td>7189</td>\n",
       "      <td>7190</td>\n",
       "      <td>7191</td>\n",
       "      <td>7192</td>\n",
       "      <td>7193</td>\n",
       "      <td>7194</td>\n",
       "      <td>7195</td>\n",
       "      <td>7196</td>\n",
       "      <td>7197</td>\n",
       "      <td>7198</td>\n",
       "    </tr>\n",
       "    <tr>\n",
       "      <th>3598</th>\n",
       "      <td>good but after the disappointing \"follow the l...</td>\n",
       "      <td>apr-music-996-en.txt</td>\n",
       "      <td>3599</td>\n",
       "      <td>3600</td>\n",
       "      <td>3601</td>\n",
       "      <td>3602</td>\n",
       "      <td>3603</td>\n",
       "      <td>3604</td>\n",
       "      <td>3605</td>\n",
       "      <td>3606</td>\n",
       "      <td>...</td>\n",
       "      <td>7189</td>\n",
       "      <td>7190</td>\n",
       "      <td>7191</td>\n",
       "      <td>7192</td>\n",
       "      <td>7193</td>\n",
       "      <td>7194</td>\n",
       "      <td>7195</td>\n",
       "      <td>7196</td>\n",
       "      <td>7197</td>\n",
       "      <td>7198</td>\n",
       "    </tr>\n",
       "    <tr>\n",
       "      <th>3599</th>\n",
       "      <td>of course the glory days are behind, but it wo...</td>\n",
       "      <td>apr-music-997-en.txt</td>\n",
       "      <td>3599</td>\n",
       "      <td>3600</td>\n",
       "      <td>3601</td>\n",
       "      <td>3602</td>\n",
       "      <td>3603</td>\n",
       "      <td>3604</td>\n",
       "      <td>3605</td>\n",
       "      <td>3606</td>\n",
       "      <td>...</td>\n",
       "      <td>7189</td>\n",
       "      <td>7190</td>\n",
       "      <td>7191</td>\n",
       "      <td>7192</td>\n",
       "      <td>7193</td>\n",
       "      <td>7194</td>\n",
       "      <td>7195</td>\n",
       "      <td>7196</td>\n",
       "      <td>7197</td>\n",
       "      <td>7198</td>\n",
       "    </tr>\n",
       "  </tbody>\n",
       "</table>\n",
       "<p>3600 rows × 3602 columns</p>\n",
       "</div>"
      ],
      "text/plain": [
       "                                                   text             file_name  \\\n",
       "0     i read this book because in my town, everyone ...     apr-book-0-en.txt   \n",
       "1     recipes appreciated by the family (small and l...     apr-book-1-en.txt   \n",
       "2     i say no to ease ..... and not to the author w...    apr-book-10-en.txt   \n",
       "3     milady has found a good vein: anita blake. bas...   apr-book-100-en.txt   \n",
       "4     460 bc, somewhere in greece: \"gentlemen, i dec...  apr-book-1000-en.txt   \n",
       "...                                                 ...                   ...   \n",
       "3595  i really wonder what is yet to coldplay. i thi...  apr-music-991-en.txt   \n",
       "3596  i'm pretty disappointed that it lacks the song...  apr-music-992-en.txt   \n",
       "3597  i bought the cd and dvd, it is complemented pe...  apr-music-995-en.txt   \n",
       "3598  good but after the disappointing \"follow the l...  apr-music-996-en.txt   \n",
       "3599  of course the glory days are behind, but it wo...  apr-music-997-en.txt   \n",
       "\n",
       "      sim0  sim1  sim2  sim3  sim4  sim5  sim6  sim7  ...  sim3590  sim3591  \\\n",
       "0     3599  3600  3601  3602  3603  3604  3605  3606  ...     7189     7190   \n",
       "1     3599  3600  3601  3602  3603  3604  3605  3606  ...     7189     7190   \n",
       "2     3599  3600  3601  3602  3603  3604  3605  3606  ...     7189     7190   \n",
       "3     3599  3600  3601  3602  3603  3604  3605  3606  ...     7189     7190   \n",
       "4     3599  3600  3601  3602  3603  3604  3605  3606  ...     7189     7190   \n",
       "...    ...   ...   ...   ...   ...   ...   ...   ...  ...      ...      ...   \n",
       "3595  3599  3600  3601  3602  3603  3604  3605  3606  ...     7189     7190   \n",
       "3596  3599  3600  3601  3602  3603  3604  3605  3606  ...     7189     7190   \n",
       "3597  3599  3600  3601  3602  3603  3604  3605  3606  ...     7189     7190   \n",
       "3598  3599  3600  3601  3602  3603  3604  3605  3606  ...     7189     7190   \n",
       "3599  3599  3600  3601  3602  3603  3604  3605  3606  ...     7189     7190   \n",
       "\n",
       "      sim3592  sim3593  sim3594  sim3595  sim3596  sim3597  sim3598  sim3599  \n",
       "0        7191     7192     7193     7194     7195     7196     7197     7198  \n",
       "1        7191     7192     7193     7194     7195     7196     7197     7198  \n",
       "2        7191     7192     7193     7194     7195     7196     7197     7198  \n",
       "3        7191     7192     7193     7194     7195     7196     7197     7198  \n",
       "4        7191     7192     7193     7194     7195     7196     7197     7198  \n",
       "...       ...      ...      ...      ...      ...      ...      ...      ...  \n",
       "3595     7191     7192     7193     7194     7195     7196     7197     7198  \n",
       "3596     7191     7192     7193     7194     7195     7196     7197     7198  \n",
       "3597     7191     7192     7193     7194     7195     7196     7197     7198  \n",
       "3598     7191     7192     7193     7194     7195     7196     7197     7198  \n",
       "3599     7191     7192     7193     7194     7195     7196     7197     7198  \n",
       "\n",
       "[3600 rows x 3602 columns]"
      ]
     },
     "execution_count": 368,
     "metadata": {},
     "output_type": "execute_result"
    }
   ],
   "source": [
    "df_all"
   ]
  }
 ],
 "metadata": {
  "kernelspec": {
   "display_name": "Python [conda env:ea_env]",
   "language": "python",
   "name": "conda-env-ea_env-py"
  },
  "language_info": {
   "codemirror_mode": {
    "name": "ipython",
    "version": 3
   },
   "file_extension": ".py",
   "mimetype": "text/x-python",
   "name": "python",
   "nbconvert_exporter": "python",
   "pygments_lexer": "ipython3",
   "version": "3.7.7"
  }
 },
 "nbformat": 4,
 "nbformat_minor": 4
}
