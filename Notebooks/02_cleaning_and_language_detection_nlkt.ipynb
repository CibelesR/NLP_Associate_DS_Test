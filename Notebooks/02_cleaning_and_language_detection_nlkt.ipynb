{
 "cells": [
  {
   "cell_type": "markdown",
   "metadata": {},
   "source": [
    "# Cleaning and Language Detection"
   ]
  },
  {
   "cell_type": "markdown",
   "metadata": {},
   "source": [
    "## See you on the ground\n",
    "\n",
    "Every language is a world. More or less, but it is true that it is preferred to make different models for each language. We do not know if the language of the document is correctly labelled, so we are going to determinate what is the language that the algorithm detects and if it fits with the label.\n",
    "\n",
    "In this part I am going to:\n",
    "- Detect the language\n",
    "- Check the labelled language is the same as the algorithm language"
   ]
  },
  {
   "cell_type": "code",
   "execution_count": 2,
   "metadata": {},
   "outputs": [],
   "source": [
    "#imports\n",
    "from langdetect import detect\n",
    "\n",
    "import sys, glob, os"
   ]
  },
  {
   "cell_type": "markdown",
   "metadata": {},
   "source": [
    "## 0. Functions deffinition"
   ]
  },
  {
   "cell_type": "code",
   "execution_count": 3,
   "metadata": {},
   "outputs": [],
   "source": [
    "# Detect the language and retur it\n",
    "def what_language(doc):\n",
    "    lang = detect(doc)\n",
    "    #print(f'Text is in: {lang}')\n",
    "    return(lang)"
   ]
  },
  {
   "cell_type": "code",
   "execution_count": 10,
   "metadata": {},
   "outputs": [],
   "source": [
    "# With a specific file path and langugae, check if the file is empty.\n",
    "# If the file is not empty detect language.\n",
    "# Few counts for quality checks.\n",
    "def check_language_files(path, lang):\n",
    "    n, h, i = 0, 0, 0\n",
    "    for f in glob.glob(path + '/*.txt'):\n",
    "        doc = open(f, encoding='utf-8').read()\n",
    "        doc = doc.lower()\n",
    "        try:\n",
    "            lang = what_language(doc)\n",
    "            if lang != lang:\n",
    "                n = n + 1\n",
    "                #print(f' Hey! check {f} because I think it is in {lang}')\n",
    "                #print('################################################')\n",
    "            elif len(doc) < 26:\n",
    "                h = h+1\n",
    "        except:\n",
    "            i = i+1\n",
    "    print(f'Number of files in a different language than the label:{n}\\nNumber of files with a short length:{h}\\nNumber of empty files:{i}')"
   ]
  },
  {
   "cell_type": "markdown",
   "metadata": {},
   "source": [
    "# 1.APR"
   ]
  },
  {
   "cell_type": "markdown",
   "metadata": {},
   "source": [
    "### 1.1 English"
   ]
  },
  {
   "cell_type": "code",
   "execution_count": 11,
   "metadata": {},
   "outputs": [
    {
     "name": "stdout",
     "output_type": "stream",
     "text": [
      "Number of files in a different language than the label:0\n",
      "Number of files with a short length:0\n",
      "Number of empty files:0\n",
      "None\n"
     ]
    }
   ],
   "source": [
    "path11 = '/Users/Natalio/Desktop/nlp_associate_ds_test/NLP_Associate_DS_Test/data/documents_challenge/APR/en'\n",
    "print(check_language_files(path11, 'en'))"
   ]
  },
  {
   "cell_type": "markdown",
   "metadata": {},
   "source": [
    "### 1.2. French"
   ]
  },
  {
   "cell_type": "code",
   "execution_count": 57,
   "metadata": {},
   "outputs": [
    {
     "name": "stdout",
     "output_type": "stream",
     "text": [
      "Sort sort sort sort\n",
      "Sort sort sort sort\n",
      "Sort sort sort sort\n",
      "Sort sort sort sort\n",
      "Number of files in a different language than the label:24\n",
      "Number of files with a short length:4\n",
      "Number of empty files:0\n"
     ]
    }
   ],
   "source": [
    "path12 = '/Users/Natalio/Desktop/nlp_associate_ds_test/NLP_Associate_DS_Test/data/documents_challenge/APR/fr'\n",
    "print(check_language_files(path1, 'fr'))"
   ]
  },
  {
   "cell_type": "markdown",
   "metadata": {},
   "source": [
    "# 2. Conference papers"
   ]
  },
  {
   "cell_type": "markdown",
   "metadata": {},
   "source": [
    "### 2.1. English"
   ]
  },
  {
   "cell_type": "code",
   "execution_count": 45,
   "metadata": {},
   "outputs": [
    {
     "name": "stdout",
     "output_type": "stream",
     "text": [
      "Number of files in a different language than the label:0\n",
      "Number of files with a short length:0\n",
      "Number of empty files:0\n"
     ]
    }
   ],
   "source": [
    "path21 = '/Users/Natalio/Desktop/nlp_associate_ds_test/NLP_Associate_DS_Test/data/documents_challenge/Conference_papers/en'\n",
    "print(check_language_files(path21, 'en'))"
   ]
  },
  {
   "cell_type": "markdown",
   "metadata": {},
   "source": [
    "### 2.2. French"
   ]
  },
  {
   "cell_type": "code",
   "execution_count": 4,
   "metadata": {},
   "outputs": [
    {
     "name": "stdout",
     "output_type": "stream",
     "text": [
      "Number of files in a different language than the label:0\n",
      "Number of files with a short length:0\n",
      "Number of empty files:0\n"
     ]
    }
   ],
   "source": [
    "path22 = '/Users/Natalio/Desktop/nlp_associate_ds_test/NLP_Associate_DS_Test/data/documents_challenge/Conference_papers/fr'\n",
    "print(check_language_files(path22, 'fr'))"
   ]
  },
  {
   "cell_type": "markdown",
   "metadata": {},
   "source": [
    "# 3. PAN11"
   ]
  },
  {
   "cell_type": "markdown",
   "metadata": {},
   "source": [
    "### 3.1. English"
   ]
  },
  {
   "cell_type": "code",
   "execution_count": 5,
   "metadata": {},
   "outputs": [
    {
     "name": "stdout",
     "output_type": "stream",
     "text": [
      "Number of files in a different language than the label:0\n",
      "Number of files with a short length:0\n",
      "Number of empty files:0\n"
     ]
    }
   ],
   "source": [
    "path = '/Users/Natalio/Desktop/nlp_associate_ds_test/NLP_Associate_DS_Test/data/documents_challenge/PAN11/en'\n",
    "print(check_language_files(path31, 'en'))"
   ]
  },
  {
   "cell_type": "markdown",
   "metadata": {},
   "source": [
    "### 3.2. Spanish"
   ]
  },
  {
   "cell_type": "code",
   "execution_count": 6,
   "metadata": {},
   "outputs": [
    {
     "name": "stdout",
     "output_type": "stream",
     "text": [
      "Number of files in a different language than the label:0\n",
      "Number of files with a short length:0\n",
      "Number of empty files:0\n"
     ]
    }
   ],
   "source": [
    "path = '/Users/Natalio/Desktop/nlp_associate_ds_test/NLP_Associate_DS_Test/data/documents_challenge/PAN11/es'\n",
    "print(check_language_files(path32, 'es'))"
   ]
  },
  {
   "cell_type": "markdown",
   "metadata": {},
   "source": [
    "# 4. Wikipedia"
   ]
  },
  {
   "cell_type": "markdown",
   "metadata": {},
   "source": [
    "### 4.1. English"
   ]
  },
  {
   "cell_type": "code",
   "execution_count": 49,
   "metadata": {},
   "outputs": [
    {
     "name": "stdout",
     "output_type": "stream",
     "text": [
      "/Users/Natalio/Desktop/nlp_associate_ds_test/NLP_Associate_DS_Test/data/documents_challenge/Wikipedia/en/531858164-en.txt\n",
      "Number of files in a different language than the label:60\n",
      "Number of files with a short length:0\n",
      "Number of empty files:1\n"
     ]
    }
   ],
   "source": [
    "path41 = '/Users/Natalio/Desktop/nlp_associate_ds_test/NLP_Associate_DS_Test/data/documents_challenge/Wikipedia/en'\n",
    "print(check_language_files(path11, 'en'))\n"
   ]
  },
  {
   "cell_type": "markdown",
   "metadata": {},
   "source": [
    "### 4.2. Spanish"
   ]
  },
  {
   "cell_type": "code",
   "execution_count": 50,
   "metadata": {},
   "outputs": [
    {
     "name": "stdout",
     "output_type": "stream",
     "text": [
      "Number of files in a different language than the label:164\n",
      "Number of files with a short length:0\n",
      "Number of empty files:0\n"
     ]
    }
   ],
   "source": [
    "path42 = '/Users/Natalio/Desktop/nlp_associate_ds_test/NLP_Associate_DS_Test/data/documents_challenge/Wikipedia/es'\n",
    "print(check_language_files(path42, 'en'))"
   ]
  },
  {
   "cell_type": "markdown",
   "metadata": {},
   "source": [
    "### 4.3. French"
   ]
  },
  {
   "cell_type": "code",
   "execution_count": 52,
   "metadata": {},
   "outputs": [
    {
     "name": "stdout",
     "output_type": "stream",
     "text": [
      "/Users/Natalio/Desktop/nlp_associate_ds_test/NLP_Associate_DS_Test/data/documents_challenge/Wikipedia/fr/1168835972-fr.txt\n",
      "Number of files in a different language than the label:248\n",
      "Number of files with a short length:0\n",
      "Number of empty files:1\n"
     ]
    }
   ],
   "source": [
    "path43 = '/Users/Natalio/Desktop/nlp_associate_ds_test/NLP_Associate_DS_Test/data/documents_challenge/Wikipedia/fr'\n",
    "print(check_language_files(path43, 'fr'))\n"
   ]
  },
  {
   "cell_type": "markdown",
   "metadata": {},
   "source": [
    "I found three different problems with our input data:\n",
    "- Some files are empty\n",
    "- Some files have a different language than the label or the algorithm is not detecting the language correctly\n",
    "- Some files are too short\n",
    "\n",
    "\n",
    "After a preliminary checkout of the input data, we have two options:\n",
    "- Clean the not matching text\n",
    "- Let outside the model the not matching text.\n",
    "\n",
    "\n",
    "For efficiency, it is better not to use the mistaken data to train the model and we are not losing so much number of files, so we can afford it."
   ]
  },
  {
   "cell_type": "markdown",
   "metadata": {},
   "source": [
    "## Deleting files from training directory"
   ]
  },
  {
   "cell_type": "code",
   "execution_count": 12,
   "metadata": {},
   "outputs": [],
   "source": [
    "def deleting_files(path, lang):\n",
    "    \n",
    "    for f in glob.glob(path + '/*.txt'):\n",
    "        doc = open(f, encoding='utf-8').read()\n",
    "        doc = doc.lower()\n",
    "        try:\n",
    "            lang = what_language(doc)\n",
    "            if lang != lang or len(doc)<26:\n",
    "                os.remove(f)\n",
    "        except:\n",
    "            os.remove(f)"
   ]
  },
  {
   "cell_type": "code",
   "execution_count": 58,
   "metadata": {},
   "outputs": [],
   "source": [
    "deleting_files(path11, 'en')\n",
    "deleting_files(path12, 'fr')\n",
    "deleting_files(path21, 'en')\n",
    "deleting_files(path22, 'fr')\n",
    "deleting_files(path31, 'en')\n",
    "deleting_files(path32, 'es')\n",
    "deleting_files(path41, 'en')\n",
    "deleting_files(path42, 'fr')\n",
    "deleting_files(path43, 'es')\n",
    "                    "
   ]
  },
  {
   "cell_type": "code",
   "execution_count": null,
   "metadata": {},
   "outputs": [],
   "source": []
  }
 ],
 "metadata": {
  "kernelspec": {
   "display_name": "Python [conda env:ea_env]",
   "language": "python",
   "name": "conda-env-ea_env-py"
  },
  "language_info": {
   "codemirror_mode": {
    "name": "ipython",
    "version": 3
   },
   "file_extension": ".py",
   "mimetype": "text/x-python",
   "name": "python",
   "nbconvert_exporter": "python",
   "pygments_lexer": "ipython3",
   "version": "3.7.7"
  }
 },
 "nbformat": 4,
 "nbformat_minor": 4
}
