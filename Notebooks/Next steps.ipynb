{
 "cells": [
  {
   "cell_type": "code",
   "execution_count": 22,
   "metadata": {},
   "outputs": [
    {
     "name": "stdout",
     "output_type": "stream",
     "text": [
      "Requirement already satisfied: fasttext in /Users/Natalio/miniconda3/envs/ea_env2/lib/python3.7/site-packages (0.9.2)\n",
      "Requirement already satisfied: pybind11>=2.2 in /Users/Natalio/miniconda3/envs/ea_env2/lib/python3.7/site-packages (from fasttext) (2.5.0)\n",
      "Requirement already satisfied: setuptools>=0.7.0 in /Users/Natalio/miniconda3/envs/ea_env2/lib/python3.7/site-packages (from fasttext) (49.2.0.post20200714)\n",
      "Requirement already satisfied: numpy in /Users/Natalio/miniconda3/envs/ea_env2/lib/python3.7/site-packages (from fasttext) (1.19.1)\n",
      "Collecting classifier\n",
      "  Downloading classifier-2.0.tar.gz (4.3 kB)\n",
      "Collecting arrow\n",
      "  Downloading arrow-0.15.8-py2.py3-none-any.whl (49 kB)\n",
      "\u001b[K     |████████████████████████████████| 49 kB 565 kB/s eta 0:00:01\n",
      "\u001b[?25hRequirement already satisfied: python-dateutil in /Users/Natalio/miniconda3/envs/ea_env2/lib/python3.7/site-packages (from arrow->classifier) (2.8.1)\n",
      "Requirement already satisfied: six>=1.5 in /Users/Natalio/miniconda3/envs/ea_env2/lib/python3.7/site-packages (from python-dateutil->arrow->classifier) (1.15.0)\n",
      "Building wheels for collected packages: classifier\n",
      "  Building wheel for classifier (setup.py) ... \u001b[?25ldone\n",
      "\u001b[?25h  Created wheel for classifier: filename=classifier-2.0-py3-none-any.whl size=5056 sha256=7bbf91eaa328a801b568d1beaee446bbad001294383f91efb67ac6a0ccc7c151\n",
      "  Stored in directory: /Users/Natalio/Library/Caches/pip/wheels/87/ea/b6/d1ee201ef021c46f0ae8f1d29bf6e6d039807dfa521a092d5d\n",
      "Successfully built classifier\n",
      "Installing collected packages: arrow, classifier\n",
      "Successfully installed arrow-0.15.8 classifier-2.0\n"
     ]
    }
   ],
   "source": [
    "!pip install fasttext\n",
    "!pip install classifier"
   ]
  },
  {
   "cell_type": "code",
   "execution_count": 23,
   "metadata": {},
   "outputs": [
    {
     "ename": "ImportError",
     "evalue": "cannot import name 'SentimentClassifier' from 'classifier' (/Users/Natalio/miniconda3/envs/ea_env2/lib/python3.7/site-packages/classifier/__init__.py)",
     "output_type": "error",
     "traceback": [
      "\u001b[0;31m---------------------------------------------------------------------------\u001b[0m",
      "\u001b[0;31mImportError\u001b[0m                               Traceback (most recent call last)",
      "\u001b[0;32m<ipython-input-23-d5aa67daf429>\u001b[0m in \u001b[0;36m<module>\u001b[0;34m\u001b[0m\n\u001b[1;32m      2\u001b[0m \u001b[0;32mimport\u001b[0m \u001b[0mlogging\u001b[0m\u001b[0;34m\u001b[0m\u001b[0;34m\u001b[0m\u001b[0m\n\u001b[1;32m      3\u001b[0m \u001b[0;32mimport\u001b[0m \u001b[0mtempfile\u001b[0m\u001b[0;34m\u001b[0m\u001b[0;34m\u001b[0m\u001b[0m\n\u001b[0;32m----> 4\u001b[0;31m \u001b[0;32mfrom\u001b[0m \u001b[0mclassifier\u001b[0m \u001b[0;32mimport\u001b[0m \u001b[0mSentimentClassifier\u001b[0m\u001b[0;34m\u001b[0m\u001b[0;34m\u001b[0m\u001b[0m\n\u001b[0m\u001b[1;32m      5\u001b[0m \u001b[0;32mimport\u001b[0m \u001b[0mfasttext\u001b[0m\u001b[0;34m\u001b[0m\u001b[0;34m\u001b[0m\u001b[0m\n\u001b[1;32m      6\u001b[0m \u001b[0;34m\u001b[0m\u001b[0m\n",
      "\u001b[0;31mImportError\u001b[0m: cannot import name 'SentimentClassifier' from 'classifier' (/Users/Natalio/miniconda3/envs/ea_env2/lib/python3.7/site-packages/classifier/__init__.py)"
     ]
    }
   ],
   "source": [
    "import csv\n",
    "import logging \n",
    "import tempfile \n",
    "from classifier import SentimentClassifier \n",
    "import fasttext \n",
    " \n",
    "    \n",
    "    \n",
    "    \n",
    "    \n",
    "    \n",
    "    "
   ]
  },
  {
   "cell_type": "code",
   "execution_count": 24,
   "metadata": {},
   "outputs": [],
   "source": [
    "logger = logging.getLogger(__name__)\n",
    "class MLInterface(object):\n",
    "    CSV_EXPORT_KWARGS = {\"sep\": ' ', \"index\": False, \"quoting\": csv.QUOTE_NONE, \"escapechar\": ' '}\n",
    "    CSV_VALID_NAME = '/validation_text.txt'\n",
    "    CSV_TRAIN_NAME = '/training_text.txt'\n",
    "    \n",
    "    def __init__(self, config_model, config_lang, s3_interface):\n",
    "        self.s3_interface = s3_interface \n",
    "        self.tempdir = tempfile.TemporaryDirectory() \n",
    "        self.lang = config_lang['lang'] \n",
    "        self.model_loss = config_model['loss'] \n",
    "        self._lang_detection_model = None \n",
    "        self._topic_detection_model = None \n",
    "        self._sentiment_detection_model = None \n",
    "    \n",
    "    @property \n",
    "    def lang_detection_model(self): \n",
    "        if not self._lang_detection_model: \n",
    "            self.load_language_detection_model() \n",
    "            return self._lang_detection_model \n",
    "    \n",
    "    @property\n",
    "    def topic_detection_model(self): \n",
    "        if not self._topic_detection_model: self.load_topic_detection_model() \n",
    "        return self._topic_detection_model \n",
    "    \n",
    "    @property\n",
    "    def sentiment_detection_model(self): \n",
    "        if not self._sentiment_detection_model: \n",
    "            self.load_sentiment_detection_model() \n",
    "        return self._sentiment_detection_model \n",
    "    \n",
    "    def load_language_detection_model(self): \n",
    "        logger.info(f'loading language detection model for language {self.lang}...') \n",
    "        self._lang_detection_model = fasttext.load_model( self.s3_interface.get_language_detection_model()) \n",
    "        \n",
    "    def load_topic_detection_model(self): \n",
    "        logger.info(f'loading topic detection model...') \n",
    "        self._topic_detection_model = fasttext.load_model( self.s3_interface.get_topic_detection_model()) \n",
    "    \n",
    "    def load_sentiment_detection_model(self): \n",
    "        logger.info(f'loading sentiment detection model...') \n",
    "        if self.lang == 'es': \n",
    "            self._sentiment_detection_model = SentimentClassifier() \n",
    "        else:\n",
    "            raise ValueError('choose a language from the available ones: [es]') \n",
    "                \n",
    "    def upload_topic_model(self, model_path): \n",
    "        logger.info(\"uploading trained model to s3...\") \n",
    "        self.s3_interface.put_topic_model(model_path) \n",
    "        \n",
    "    def train_model(self, train_df, validation_df): \n",
    "        model_path = self.tempdir.name + '/' + 'model.ftz' \n",
    "        logger.info(f\"training topic detection model...\") \n",
    "        train_df.to_csv(self.tempdir.name + self.CSV_TRAIN_NAME, **self.CSV_EXPORT_KWARGS)\n",
    "        validation_df.to_csv(self.tempdir.name + self.CSV_VALID_NAME, **self.CSV_EXPORT_KWARGS)\n",
    "        model = fasttext.train_supervised( input=self.tempdir.name + self.CSV_TRAIN_NAME, autotuneValidationFile=self.tempdir.name + self.CSV_VALID_NAME, loss=self.model_loss ) \n",
    "        logger.info(\"compressing model...\") \n",
    "        model.quantize() \n",
    "        logger.info(f\"caching model locally at {model_path}...\") \n",
    "        model.save_model(model_path) \n",
    "        return model_path"
   ]
  },
  {
   "cell_type": "code",
   "execution_count": 17,
   "metadata": {},
   "outputs": [],
   "source": [
    "model_en = fasttext.train_supervised(\"/Users/Natalio/Desktop/nlp_associate_ds_test/NLP_Associate_DS_Test/data/training_data/english.txt\")"
   ]
  },
  {
   "cell_type": "code",
   "execution_count": 4,
   "metadata": {},
   "outputs": [
    {
     "name": "stdout",
     "output_type": "stream",
     "text": [
      "['__label__Wikipedia', '__label__APR', '__label__PAN11', '__label__Conference_papers']\n"
     ]
    }
   ],
   "source": [
    "print(model_en.labels)"
   ]
  },
  {
   "cell_type": "code",
   "execution_count": 12,
   "metadata": {},
   "outputs": [],
   "source": [
    "f = '/Users/Natalio/Desktop/nlp_associate_ds_test/NLP_Associate_DS_Test/data/documents_challenge/Wikipedia/en/159755156-en.txt'\n",
    "#doc = open(f, encoding='utf-8').read()\n",
    "label = model_en.predict(f)"
   ]
  },
  {
   "cell_type": "code",
   "execution_count": 13,
   "metadata": {},
   "outputs": [
    {
     "data": {
      "text/plain": [
       "(('__label__Conference_papers',), array([1.00001001]))"
      ]
     },
     "execution_count": 13,
     "metadata": {},
     "output_type": "execute_result"
    }
   ],
   "source": [
    "label"
   ]
  },
  {
   "cell_type": "code",
   "execution_count": null,
   "metadata": {},
   "outputs": [],
   "source": []
  }
 ],
 "metadata": {
  "kernelspec": {
   "display_name": "Python [conda env:ea_env2] *",
   "language": "python",
   "name": "conda-env-ea_env2-py"
  },
  "language_info": {
   "codemirror_mode": {
    "name": "ipython",
    "version": 3
   },
   "file_extension": ".py",
   "mimetype": "text/x-python",
   "name": "python",
   "nbconvert_exporter": "python",
   "pygments_lexer": "ipython3",
   "version": "3.7.7"
  }
 },
 "nbformat": 4,
 "nbformat_minor": 4
}
