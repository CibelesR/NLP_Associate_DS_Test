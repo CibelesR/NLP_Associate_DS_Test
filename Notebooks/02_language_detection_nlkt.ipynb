{
 "cells": [
  {
   "cell_type": "markdown",
   "metadata": {},
   "source": [
    "# Language Detection NLKT"
   ]
  },
  {
   "cell_type": "code",
   "execution_count": 35,
   "metadata": {},
   "outputs": [],
   "source": [
    "#imports\n",
    "from langdetect import detect\n",
    "\n",
    "import sys, glob, os"
   ]
  },
  {
   "cell_type": "code",
   "execution_count": 36,
   "metadata": {},
   "outputs": [],
   "source": [
    "def what_language(doc):\n",
    "    lang = detect(doc)\n",
    "    #print(f'Text is in: {lang}')\n",
    "    return(lang)"
   ]
  },
  {
   "cell_type": "markdown",
   "metadata": {},
   "source": [
    "# 1.APR"
   ]
  },
  {
   "cell_type": "markdown",
   "metadata": {},
   "source": [
    "### 1.1 English"
   ]
  },
  {
   "cell_type": "code",
   "execution_count": 43,
   "metadata": {},
   "outputs": [
    {
     "name": "stdout",
     "output_type": "stream",
     "text": [
      "Sort sort sort sort\n",
      "Sort sort sort sort\n",
      "Sort sort sort sort\n",
      "Sort sort sort sort\n",
      "Sort sort sort sort\n",
      "Sort sort sort sort\n",
      "Sort sort sort sort\n",
      "Sort sort sort sort\n",
      "Sort sort sort sort\n",
      "Sort sort sort sort\n",
      "Sort sort sort sort\n",
      "Sort sort sort sort\n",
      "Sort sort sort sort\n",
      "Sort sort sort sort\n",
      "Number of files in a different language than the label:15\n",
      "Number of files with a short length:14\n",
      "Number of empty files:0\n"
     ]
    }
   ],
   "source": [
    "path = '/Users/Natalio/Desktop/nlp_associate_ds_test/NLP_Associate_DS_Test/data/documents_challenge/APR/en'\n",
    "n = 0\n",
    "h = 0\n",
    "i = 0\n",
    "for f in glob.glob(path + '/*.txt'):\n",
    "    doc = open(f, encoding='utf-8').read()\n",
    "    doc = doc.lower()\n",
    "    try:\n",
    "        lang = what_language(doc)\n",
    "        if lang != 'en':\n",
    "            n = n + 1\n",
    "            #print(f)\n",
    "            #print(f' Hey! check {f} because I think it is in {lang}')\n",
    "            #print(doc)\n",
    "            #print(len(doc))\n",
    "            #print('################################################')\n",
    "        elif len(doc) < 26:\n",
    "            h = h+1\n",
    "            print('Sort sort sort sort')\n",
    "    except:\n",
    "        i = i+1\n",
    "        print(f)\n",
    "print(f'Number of files in a different language than the label:{n}\\nNumber of files with a short length:{h}\\nNumber of empty files:{i}')"
   ]
  },
  {
   "cell_type": "markdown",
   "metadata": {},
   "source": [
    "### 1.2. French"
   ]
  },
  {
   "cell_type": "code",
   "execution_count": 57,
   "metadata": {},
   "outputs": [
    {
     "name": "stdout",
     "output_type": "stream",
     "text": [
      "Sort sort sort sort\n",
      "Sort sort sort sort\n",
      "Sort sort sort sort\n",
      "Sort sort sort sort\n",
      "Number of files in a different language than the label:24\n",
      "Number of files with a short length:4\n",
      "Number of empty files:0\n"
     ]
    }
   ],
   "source": [
    "path = '/Users/Natalio/Desktop/nlp_associate_ds_test/NLP_Associate_DS_Test/data/documents_challenge/APR/fr'\n",
    "n = 0\n",
    "h = 0\n",
    "i = 0\n",
    "for f in glob.glob(path + '/*.txt'):\n",
    "    doc = open(f, encoding='utf-8').read()\n",
    "    doc = doc.lower()\n",
    "    try:\n",
    "        lang = what_language(doc)\n",
    "        if lang != 'fr':\n",
    "            n = n + 1\n",
    "            #print(f)\n",
    "            #print(f' Hey! check {f} because I think it is in {lang}')\n",
    "            #print(doc)\n",
    "            #print(len(doc))\n",
    "            #print('################################################')\n",
    "        if len(doc) < 26:\n",
    "            h = h+1\n",
    "            print('Sort sort sort sort')\n",
    "    except:\n",
    "        i = i+1\n",
    "        print(f)\n",
    "print(f'Number of files in a different language than the label:{n}\\nNumber of files with a short length:{h}\\nNumber of empty files:{i}')"
   ]
  },
  {
   "cell_type": "markdown",
   "metadata": {},
   "source": [
    "# 2. Conference papers"
   ]
  },
  {
   "cell_type": "markdown",
   "metadata": {},
   "source": [
    "### 2.1. English"
   ]
  },
  {
   "cell_type": "code",
   "execution_count": 45,
   "metadata": {},
   "outputs": [
    {
     "name": "stdout",
     "output_type": "stream",
     "text": [
      "Number of files in a different language than the label:0\n",
      "Number of files with a short length:0\n",
      "Number of empty files:0\n"
     ]
    }
   ],
   "source": [
    "path = '/Users/Natalio/Desktop/nlp_associate_ds_test/NLP_Associate_DS_Test/data/documents_challenge/Conference_papers/en'\n",
    "n = 0\n",
    "h = 0\n",
    "i = 0\n",
    "for f in glob.glob(path + '/*.txt'):\n",
    "    doc = open(f, encoding='utf-8').read()\n",
    "    doc = doc.lower()\n",
    "    try:\n",
    "        lang = what_language(doc)\n",
    "        if lang != 'en':\n",
    "            n = n + 1\n",
    "            #print(f)\n",
    "            #print(f' Hey! check {f} because I think it is in {lang}')\n",
    "            #print(doc)\n",
    "            #print(len(doc))\n",
    "            #print('################################################')\n",
    "        if len(doc) < 26:\n",
    "            h = h+1\n",
    "            print('Sort sort sort sort')\n",
    "    except:\n",
    "        i = i+1\n",
    "        print(f)\n",
    "print(f'Number of files in a different language than the label:{n}\\nNumber of files with a short length:{h}\\nNumber of empty files:{i}')"
   ]
  },
  {
   "cell_type": "markdown",
   "metadata": {},
   "source": [
    "### 2.2. French"
   ]
  },
  {
   "cell_type": "code",
   "execution_count": 59,
   "metadata": {},
   "outputs": [
    {
     "name": "stdout",
     "output_type": "stream",
     "text": [
      "Number of files in a different language than the label:0\n",
      "Number of files with a short length:0\n",
      "Number of empty files:0\n"
     ]
    }
   ],
   "source": [
    "path = '/Users/Natalio/Desktop/nlp_associate_ds_test/NLP_Associate_DS_Test/data/documents_challenge/Conference_papers/fr'\n",
    "n = 0\n",
    "h = 0\n",
    "i = 0\n",
    "for f in glob.glob(path + '/*.txt'):\n",
    "    doc = open(f, encoding='utf-8').read()\n",
    "    doc = doc.lower()\n",
    "    try:\n",
    "        lang = what_language(doc)\n",
    "        if lang != 'fr':\n",
    "            n = n + 1\n",
    "            #print(f)\n",
    "            #print(f' Hey! check {f} because I think it is in {lang}')\n",
    "            #print(doc)\n",
    "            #print(len(doc))\n",
    "            #print('################################################')\n",
    "        if len(doc) < 26:\n",
    "            h = h+1\n",
    "            print('Sort sort sort sort')\n",
    "    except:\n",
    "        i = i+1\n",
    "        print(f)\n",
    "print(f'Number of files in a different language than the label:{n}\\nNumber of files with a short length:{h}\\nNumber of empty files:{i}')"
   ]
  },
  {
   "cell_type": "markdown",
   "metadata": {},
   "source": [
    "# 3. PAN11"
   ]
  },
  {
   "cell_type": "markdown",
   "metadata": {},
   "source": [
    "### 3.1. English"
   ]
  },
  {
   "cell_type": "code",
   "execution_count": 47,
   "metadata": {},
   "outputs": [
    {
     "name": "stdout",
     "output_type": "stream",
     "text": [
      "Number of files in a different language than the label:0\n",
      "Number of files with a short length:0\n",
      "Number of empty files:0\n"
     ]
    }
   ],
   "source": [
    "path = '/Users/Natalio/Desktop/nlp_associate_ds_test/NLP_Associate_DS_Test/data/documents_challenge/PAN11/en'\n",
    "n = 0\n",
    "h = 0\n",
    "i = 0\n",
    "for f in glob.glob(path + '/*.txt'):\n",
    "    doc = open(f, encoding='utf-8').read()\n",
    "    doc = doc.lower()\n",
    "    try:\n",
    "        lang = what_language(doc)\n",
    "        if lang != 'en':\n",
    "            n = n + 1\n",
    "            #print(f)\n",
    "            #print(f' Hey! check {f} because I think it is in {lang}')\n",
    "            #print(doc)\n",
    "            #print(len(doc))\n",
    "            #print('################################################')\n",
    "        if len(doc) < 26:\n",
    "            h = h+1\n",
    "            print('Sort sort sort sort')\n",
    "    except:\n",
    "        i = i+1\n",
    "        print(f)\n",
    "print(f'Number of files in a different language than the label:{n}\\nNumber of files with a short length:{h}\\nNumber of empty files:{i}')"
   ]
  },
  {
   "cell_type": "code",
   "execution_count": null,
   "metadata": {},
   "outputs": [],
   "source": [
    "### 3.2. Spanish"
   ]
  },
  {
   "cell_type": "code",
   "execution_count": 48,
   "metadata": {},
   "outputs": [
    {
     "name": "stdout",
     "output_type": "stream",
     "text": [
      "Number of files in a different language than the label:0\n",
      "Number of files with a short length:0\n",
      "Number of empty files:0\n"
     ]
    }
   ],
   "source": [
    "path = '/Users/Natalio/Desktop/nlp_associate_ds_test/NLP_Associate_DS_Test/data/documents_challenge/PAN11/es'\n",
    "n = 0\n",
    "h = 0\n",
    "i = 0\n",
    "for f in glob.glob(path + '/*.txt'):\n",
    "    doc = open(f, encoding='utf-8').read()\n",
    "    doc = doc.lower()\n",
    "    try:\n",
    "        lang = what_language(doc)\n",
    "        if lang != 'es':\n",
    "            n = n + 1\n",
    "            #print(f)\n",
    "            #print(f' Hey! check {f} because I think it is in {lang}')\n",
    "            #print(doc)\n",
    "            #print(len(doc))\n",
    "            #print('################################################')\n",
    "        if len(doc) < 26:\n",
    "            h = h+1\n",
    "            print('Sort sort sort sort')\n",
    "    except:\n",
    "        i = i+1\n",
    "        print(f)\n",
    "print(f'Number of files in a different language than the label:{n}\\nNumber of files with a short length:{h}\\nNumber of empty files:{i}')"
   ]
  },
  {
   "cell_type": "markdown",
   "metadata": {},
   "source": [
    "# 4. Wikipedia"
   ]
  },
  {
   "cell_type": "markdown",
   "metadata": {},
   "source": [
    "### 4.1. English"
   ]
  },
  {
   "cell_type": "code",
   "execution_count": 49,
   "metadata": {},
   "outputs": [
    {
     "name": "stdout",
     "output_type": "stream",
     "text": [
      "/Users/Natalio/Desktop/nlp_associate_ds_test/NLP_Associate_DS_Test/data/documents_challenge/Wikipedia/en/531858164-en.txt\n",
      "Number of files in a different language than the label:60\n",
      "Number of files with a short length:0\n",
      "Number of empty files:1\n"
     ]
    }
   ],
   "source": [
    "path = '/Users/Natalio/Desktop/nlp_associate_ds_test/NLP_Associate_DS_Test/data/documents_challenge/Wikipedia/en'\n",
    "n = 0\n",
    "h = 0\n",
    "i = 0\n",
    "for f in glob.glob(path + '/*.txt'):\n",
    "    doc = open(f, encoding='utf-8').read()\n",
    "    doc = doc.lower()\n",
    "    try:\n",
    "        lang = what_language(doc)\n",
    "        if lang != 'en':\n",
    "            n = n + 1\n",
    "            #print(f)\n",
    "            #print(f' Hey! check {f} because I think it is in {lang}')\n",
    "            #print(doc)\n",
    "            #print(len(doc))\n",
    "            #print('################################################')\n",
    "        if len(doc) < 26:\n",
    "            h = h+1\n",
    "            print('Sort sort sort sort')\n",
    "    except:\n",
    "        i = i+1\n",
    "        print(f)\n",
    "print(f'Number of files in a different language than the label:{n}\\nNumber of files with a short length:{h}\\nNumber of empty files:{i}')"
   ]
  },
  {
   "cell_type": "markdown",
   "metadata": {},
   "source": [
    "### 4.2. Spanish"
   ]
  },
  {
   "cell_type": "code",
   "execution_count": 50,
   "metadata": {},
   "outputs": [
    {
     "name": "stdout",
     "output_type": "stream",
     "text": [
      "Number of files in a different language than the label:164\n",
      "Number of files with a short length:0\n",
      "Number of empty files:0\n"
     ]
    }
   ],
   "source": [
    "path = '/Users/Natalio/Desktop/nlp_associate_ds_test/NLP_Associate_DS_Test/data/documents_challenge/Wikipedia/es'\n",
    "n = 0\n",
    "h = 0\n",
    "i = 0\n",
    "for f in glob.glob(path + '/*.txt'):\n",
    "    doc = open(f, encoding='utf-8').read()\n",
    "    doc = doc.lower()\n",
    "    try:\n",
    "        lang = what_language(doc)\n",
    "        if lang != 'es':\n",
    "            n = n + 1\n",
    "            #print(f)\n",
    "            #print(f' Hey! check {f} because I think it is in {lang}')\n",
    "            #print(doc)\n",
    "            #print(len(doc))\n",
    "            #print('################################################')\n",
    "        if len(doc) < 26:\n",
    "            h = h+1\n",
    "            print('Sort sort sort sort')\n",
    "    except:\n",
    "        i = i+1\n",
    "        print(f)\n",
    "print(f'Number of files in a different language than the label:{n}\\nNumber of files with a short length:{h}\\nNumber of empty files:{i}')"
   ]
  },
  {
   "cell_type": "markdown",
   "metadata": {},
   "source": [
    "### 4.3. French"
   ]
  },
  {
   "cell_type": "code",
   "execution_count": 52,
   "metadata": {},
   "outputs": [
    {
     "name": "stdout",
     "output_type": "stream",
     "text": [
      "/Users/Natalio/Desktop/nlp_associate_ds_test/NLP_Associate_DS_Test/data/documents_challenge/Wikipedia/fr/1168835972-fr.txt\n",
      "Number of files in a different language than the label:248\n",
      "Number of files with a short length:0\n",
      "Number of empty files:1\n"
     ]
    }
   ],
   "source": [
    "path = '/Users/Natalio/Desktop/nlp_associate_ds_test/NLP_Associate_DS_Test/data/documents_challenge/Wikipedia/fr'\n",
    "n = 0\n",
    "h = 0\n",
    "i = 0\n",
    "for f in glob.glob(path + '/*.txt'):\n",
    "    doc = open(f, encoding='utf-8').read()\n",
    "    doc = doc.lower()\n",
    "    try:\n",
    "        lang = what_language(doc)\n",
    "        if lang != 'fr':\n",
    "            n = n + 1\n",
    "            #print(f)\n",
    "            #print(f' Hey! check {f} because I think it is in {lang}')\n",
    "            #print(doc)\n",
    "            #print(len(doc))\n",
    "            #print('################################################')\n",
    "        if len(doc) < 26:\n",
    "            h = h+1\n",
    "            print('Sort sort sort sort')\n",
    "    except:\n",
    "        i = i+1\n",
    "        print(f)\n",
    "print(f'Number of files in a different language than the label:{n}\\nNumber of files with a short length:{h}\\nNumber of empty files:{i}')"
   ]
  },
  {
   "cell_type": "markdown",
   "metadata": {},
   "source": [
    "##### After a quick preliminary checkout of the input data we can say there is no much error. For efficiency, it is better not to use the mistaken data to train the model"
   ]
  },
  {
   "cell_type": "markdown",
   "metadata": {},
   "source": [
    "## Deleting files from training directory"
   ]
  },
  {
   "cell_type": "code",
   "execution_count": 58,
   "metadata": {},
   "outputs": [],
   "source": [
    "path = '/Users/Natalio/Desktop/nlp_associate_ds_test/NLP_Associate_DS_Test/data/documents_challenge/APR/en'\n",
    "for f in glob.glob(path + '/*.txt'):\n",
    "    doc = open(f, encoding='utf-8').read()\n",
    "    doc = doc.lower()\n",
    "    try:\n",
    "        lang = what_language(doc)\n",
    "        if lang != 'en' or len(doc)<26:\n",
    "            os.remove(f)\n",
    "    except:\n",
    "        os.remove(f)\n",
    "        \n",
    "path = '/Users/Natalio/Desktop/nlp_associate_ds_test/NLP_Associate_DS_Test/data/documents_challenge/APR/fr'\n",
    "for f in glob.glob(path + '/*.txt'):\n",
    "    doc = open(f, encoding='utf-8').read()\n",
    "    doc = doc.lower()\n",
    "    try:\n",
    "        lang = what_language(doc)\n",
    "        if lang != 'fr' or len(doc) < 26:\n",
    "            os.remove(f)\n",
    "    except:\n",
    "            os.remove(f)            "
   ]
  },
  {
   "cell_type": "code",
   "execution_count": 60,
   "metadata": {},
   "outputs": [],
   "source": [
    "ath = '/Users/Natalio/Desktop/nlp_associate_ds_test/NLP_Associate_DS_Test/data/documents_challenge/Conference_papers/en'\n",
    "for f in glob.glob(path + '/*.txt'):\n",
    "    doc = open(f, encoding='utf-8').read()\n",
    "    doc = doc.lower()\n",
    "    try:\n",
    "        lang = what_language(doc)\n",
    "        if lang != 'en' or len(doc)<26:\n",
    "            os.remove(f)\n",
    "    except:\n",
    "        os.remove(f)\n",
    "        \n",
    "path = '/Users/Natalio/Desktop/nlp_associate_ds_test/NLP_Associate_DS_Test/data/documents_challenge/Conference_papers/fr'\n",
    "for f in glob.glob(path + '/*.txt'):\n",
    "    doc = open(f, encoding='utf-8').read()\n",
    "    doc = doc.lower()\n",
    "    try:\n",
    "        lang = what_language(doc)\n",
    "        if lang != 'fr' or len(doc) < 26:\n",
    "            os.remove(f)\n",
    "    except:\n",
    "            os.remove(f)            "
   ]
  },
  {
   "cell_type": "code",
   "execution_count": 61,
   "metadata": {},
   "outputs": [],
   "source": [
    "ath = '/Users/Natalio/Desktop/nlp_associate_ds_test/NLP_Associate_DS_Test/data/documents_challenge/PAN11/en'\n",
    "for f in glob.glob(path + '/*.txt'):\n",
    "    doc = open(f, encoding='utf-8').read()\n",
    "    doc = doc.lower()\n",
    "    try:\n",
    "        lang = what_language(doc)\n",
    "        if lang != 'en' or len(doc)<26:\n",
    "            os.remove(f)\n",
    "    except:\n",
    "        os.remove(f)\n",
    "        \n",
    "path = '/Users/Natalio/Desktop/nlp_associate_ds_test/NLP_Associate_DS_Test/data/documents_challenge/PAN11/es'\n",
    "for f in glob.glob(path + '/*.txt'):\n",
    "    doc = open(f, encoding='utf-8').read()\n",
    "    doc = doc.lower()\n",
    "    try:\n",
    "        lang = what_language(doc)\n",
    "        if lang != 'es' or len(doc) < 26:\n",
    "            os.remove(f)\n",
    "    except:\n",
    "            os.remove(f)            "
   ]
  },
  {
   "cell_type": "code",
   "execution_count": 56,
   "metadata": {},
   "outputs": [],
   "source": [
    "ath = '/Users/Natalio/Desktop/nlp_associate_ds_test/NLP_Associate_DS_Test/data/documents_challenge/Wikipedia/en'\n",
    "for f in glob.glob(path + '/*.txt'):\n",
    "    doc = open(f, encoding='utf-8').read()\n",
    "    doc = doc.lower()\n",
    "    try:\n",
    "        lang = what_language(doc)\n",
    "        if lang != 'en' or len(doc)<26:\n",
    "            os.remove(f)\n",
    "    except:\n",
    "        os.remove(f)\n",
    "        \n",
    "path = '/Users/Natalio/Desktop/nlp_associate_ds_test/NLP_Associate_DS_Test/data/documents_challenge/Wikipedia/fr'\n",
    "for f in glob.glob(path + '/*.txt'):\n",
    "    doc = open(f, encoding='utf-8').read()\n",
    "    doc = doc.lower()\n",
    "    try:\n",
    "        lang = what_language(doc)\n",
    "        if lang != 'fr' or len(doc) < 26:\n",
    "            os.remove(f)\n",
    "    except:\n",
    "            os.remove(f) \n",
    "            \n",
    "            \n",
    "path = '/Users/Natalio/Desktop/nlp_associate_ds_test/NLP_Associate_DS_Test/data/documents_challenge/Wikipedia/es'\n",
    "for f in glob.glob(path + '/*.txt'):\n",
    "    doc = open(f, encoding='utf-8').read()\n",
    "    doc = doc.lower()\n",
    "    try:\n",
    "        lang = what_language(doc)\n",
    "        if lang != 'es' or len(doc) < 26:\n",
    "            os.remove(f)\n",
    "    except:\n",
    "            os.remove(f) "
   ]
  },
  {
   "cell_type": "code",
   "execution_count": null,
   "metadata": {},
   "outputs": [],
   "source": []
  }
 ],
 "metadata": {
  "kernelspec": {
   "display_name": "Python [conda env:ea_env] *",
   "language": "python",
   "name": "conda-env-ea_env-py"
  },
  "language_info": {
   "codemirror_mode": {
    "name": "ipython",
    "version": 3
   },
   "file_extension": ".py",
   "mimetype": "text/x-python",
   "name": "python",
   "nbconvert_exporter": "python",
   "pygments_lexer": "ipython3",
   "version": "3.7.7"
  }
 },
 "nbformat": 4,
 "nbformat_minor": 4
}
